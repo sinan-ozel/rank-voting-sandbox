{
 "cells": [
  {
   "cell_type": "code",
   "execution_count": 5,
   "metadata": {},
   "outputs": [],
   "source": [
    "from typing import List, Set\n",
    "from string import ascii_uppercase\n",
    "\n",
    "from pyrankvote import Candidate, Ballot\n",
    "from pyrankvote import (\n",
    "    instant_runoff_voting\n",
    ")\n"
   ]
  },
  {
   "cell_type": "code",
   "execution_count": 68,
   "metadata": {},
   "outputs": [],
   "source": [
    "class Ranking:\n",
    "    def __init__(self, ranking: List[Candidate]):\n",
    "        try:\n",
    "            assert isinstance(ranking, (list, tuple))\n",
    "            for candidate in ranking:\n",
    "                assert isinstance(candidate, Candidate)\n",
    "        except AssertionError:\n",
    "            raise TypeError(\"Please initialize with a List of Candidate objects.\")\n",
    "        self._ranking = list(ranking)\n",
    "        self._candidates = set(ranking)\n",
    "        if len(self._ranking) != len(self._candidates):\n",
    "            return ValueError(\"Repeated candidates detected in ranking.\")\n",
    "\n",
    "    def __repr__(self):\n",
    "        return str(self._ranking)\n",
    "    \n",
    "    def __len__(self):\n",
    "        return len(self._ranking)\n",
    "    \n",
    "    def __iter__(self):\n",
    "        for candidate in self._ranking:\n",
    "            yield candidate"
   ]
  },
  {
   "cell_type": "code",
   "execution_count": 69,
   "metadata": {},
   "outputs": [],
   "source": [
    "import random\n",
    "from itertools import permutations\n",
    "\n",
    "class Candidates:\n",
    "    def __init__(self, candidates: Set[Candidate]):\n",
    "        try:\n",
    "            assert isinstance(candidates, set)\n",
    "            for candidate in candidates:\n",
    "                assert isinstance(candidate, Candidate)\n",
    "        except AssertionError:\n",
    "            raise TypeError(\"Please initialize with a Set of Candidate objects.\")\n",
    "        self._candidates = candidates\n",
    "    \n",
    "    def __repr__(self):\n",
    "        return str(self._candidates)\n",
    "    \n",
    "    def __len__(self):\n",
    "        return len(self._candidates)\n",
    "    \n",
    "    def __iter__(self):\n",
    "        for candidate in self._candidates:\n",
    "            yield candidate\n",
    "            \n",
    "    def shuffle(self):\n",
    "        return random.sample(list(self._candidates), k=len(self._candidates))\n",
    "    \n",
    "    def get_all_rankings(self):\n",
    "        for permutation in permutations(self._candidates, len(self._candidates)):\n",
    "            yield Ranking(permutation)\n",
    "            \n",
    "        "
   ]
  },
  {
   "cell_type": "code",
   "execution_count": null,
   "metadata": {},
   "outputs": [],
   "source": []
  },
  {
   "cell_type": "code",
   "execution_count": 76,
   "metadata": {},
   "outputs": [],
   "source": [
    "class Voter:\n",
    "\n",
    "    def __init__(self, preference_ranking: List[Candidate]):\n",
    "        pass\n",
    "        # TODO: They should each have unique id, no?\n",
    "    \n",
    "    def vote(self) -> List[Candidate]:\n",
    "        \"\"\"Has to return a ranking of candidates, may take other voters as input\"\"\"\n",
    "        pass"
   ]
  },
  {
   "cell_type": "code",
   "execution_count": 75,
   "metadata": {},
   "outputs": [],
   "source": [
    "class VoterBase:\n",
    "    def __init__(self, candidates: Set[Candidate], voters: Set[Voter]):\n",
    "        pass\n",
    "        # TODO: Create an internal matrix of candidates and voters|\n",
    "    "
   ]
  },
  {
   "cell_type": "code",
   "execution_count": 72,
   "metadata": {},
   "outputs": [
    {
     "data": {
      "text/plain": [
       "{<Candidate('A')>, <Candidate('C')>, <Candidate('B')>}"
      ]
     },
     "execution_count": 72,
     "metadata": {},
     "output_type": "execute_result"
    }
   ],
   "source": [
    "candidates = Candidates({Candidate(k) for k in ascii_uppercase[:3]})\n",
    "candidates"
   ]
  },
  {
   "cell_type": "code",
   "execution_count": 73,
   "metadata": {},
   "outputs": [
    {
     "data": {
      "text/plain": [
       "[<Candidate('C')>, <Candidate('B')>, <Candidate('A')>]"
      ]
     },
     "execution_count": 73,
     "metadata": {},
     "output_type": "execute_result"
    }
   ],
   "source": [
    "candidates.shuffle()"
   ]
  },
  {
   "cell_type": "code",
   "execution_count": 74,
   "metadata": {},
   "outputs": [
    {
     "name": "stdout",
     "output_type": "stream",
     "text": [
      "[<Candidate('A')>, <Candidate('C')>, <Candidate('B')>]\n",
      "[<Candidate('A')>, <Candidate('B')>, <Candidate('C')>]\n",
      "[<Candidate('C')>, <Candidate('A')>, <Candidate('B')>]\n",
      "[<Candidate('C')>, <Candidate('B')>, <Candidate('A')>]\n",
      "[<Candidate('B')>, <Candidate('A')>, <Candidate('C')>]\n",
      "[<Candidate('B')>, <Candidate('C')>, <Candidate('A')>]\n"
     ]
    }
   ],
   "source": [
    "all_rankings = candidates.get_all_rankings()\n",
    "for ranking in all_rankings:\n",
    "    print(ranking)"
   ]
  },
  {
   "cell_type": "code",
   "execution_count": null,
   "metadata": {},
   "outputs": [],
   "source": []
  }
 ],
 "metadata": {
  "kernelspec": {
   "display_name": "Python 3",
   "language": "python",
   "name": "python3"
  },
  "language_info": {
   "codemirror_mode": {
    "name": "ipython",
    "version": 3
   },
   "file_extension": ".py",
   "mimetype": "text/x-python",
   "name": "python",
   "nbconvert_exporter": "python",
   "pygments_lexer": "ipython3",
   "version": "3.8.5"
  }
 },
 "nbformat": 4,
 "nbformat_minor": 4
}
