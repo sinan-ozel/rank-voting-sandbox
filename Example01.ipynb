{
 "cells": [
  {
   "cell_type": "code",
   "execution_count": 6,
   "metadata": {},
   "outputs": [],
   "source": [
    "from pyrankvote import Candidate, Ballot\n",
    "from pyrankvote import (\n",
    "    instant_runoff_voting\n",
    ")"
   ]
  },
  {
   "cell_type": "code",
   "execution_count": 2,
   "metadata": {},
   "outputs": [],
   "source": [
    "bush = Candidate(\"George W. Bush (Republican)\")\n",
    "gore = Candidate(\"Al Gore (Democratic)\")\n",
    "nader = Candidate(\"Ralph Nader (Green)\")"
   ]
  },
  {
   "cell_type": "code",
   "execution_count": 3,
   "metadata": {},
   "outputs": [],
   "source": [
    "candidates = [bush, gore, nader]"
   ]
  },
  {
   "cell_type": "code",
   "execution_count": 4,
   "metadata": {},
   "outputs": [],
   "source": [
    "ballots = [\n",
    "    Ballot(ranked_candidates=[bush, nader, gore]),\n",
    "    Ballot(ranked_candidates=[bush, nader, gore]),\n",
    "    Ballot(ranked_candidates=[bush, nader]),\n",
    "    Ballot(ranked_candidates=[bush, nader]),\n",
    "    Ballot(ranked_candidates=[nader, gore, bush]),\n",
    "    Ballot(ranked_candidates=[nader, gore]),\n",
    "    Ballot(ranked_candidates=[gore, nader, bush]),\n",
    "    Ballot(ranked_candidates=[gore, nader]),\n",
    "    Ballot(ranked_candidates=[gore, nader])\n",
    "]"
   ]
  },
  {
   "cell_type": "code",
   "execution_count": 8,
   "metadata": {},
   "outputs": [],
   "source": [
    "election_result = instant_runoff_voting(candidates, ballots)"
   ]
  },
  {
   "cell_type": "code",
   "execution_count": 9,
   "metadata": {},
   "outputs": [
    {
     "name": "stdout",
     "output_type": "stream",
     "text": [
      "ROUND 1\n",
      "Candidate                      Votes  Status\n",
      "---------------------------  -------  --------\n",
      "George W. Bush (Republican)        4  Hopeful\n",
      "Al Gore (Democratic)               3  Hopeful\n",
      "Ralph Nader (Green)                2  Rejected\n",
      "\n",
      "FINAL RESULT\n",
      "Candidate                      Votes  Status\n",
      "---------------------------  -------  --------\n",
      "Al Gore (Democratic)               5  Elected\n",
      "George W. Bush (Republican)        4  Rejected\n",
      "Ralph Nader (Green)                0  Rejected\n",
      "\n"
     ]
    }
   ],
   "source": [
    "print(election_result)"
   ]
  },
  {
   "cell_type": "code",
   "execution_count": 10,
   "metadata": {},
   "outputs": [
    {
     "data": {
      "text/plain": [
       "[<Candidate('Al Gore (Democratic)')>]"
      ]
     },
     "execution_count": 10,
     "metadata": {},
     "output_type": "execute_result"
    }
   ],
   "source": [
    "winners = election_result.get_winners()\n",
    "winners"
   ]
  },
  {
   "cell_type": "code",
   "execution_count": null,
   "metadata": {},
   "outputs": [],
   "source": []
  }
 ],
 "metadata": {
  "kernelspec": {
   "display_name": "Python 3",
   "language": "python",
   "name": "python3"
  },
  "language_info": {
   "codemirror_mode": {
    "name": "ipython",
    "version": 3
   },
   "file_extension": ".py",
   "mimetype": "text/x-python",
   "name": "python",
   "nbconvert_exporter": "python",
   "pygments_lexer": "ipython3",
   "version": "3.8.5"
  }
 },
 "nbformat": 4,
 "nbformat_minor": 4
}
