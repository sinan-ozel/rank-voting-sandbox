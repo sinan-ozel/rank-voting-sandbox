{
 "cells": [
  {
   "cell_type": "code",
   "execution_count": 56,
   "metadata": {},
   "outputs": [],
   "source": [
    "import random\n",
    "from typing import List\n",
    "\n",
    "from pyrankvote import Candidate, Ballot\n",
    "from pyrankvote import (\n",
    "    instant_runoff_voting\n",
    ")\n",
    "\n",
    "from tqdm.notebook import tqdm"
   ]
  },
  {
   "cell_type": "code",
   "execution_count": 3,
   "metadata": {},
   "outputs": [
    {
     "data": {
      "text/plain": [
       "[<Candidate('1')>, <Candidate('2')>, <Candidate('3')>]"
      ]
     },
     "execution_count": 3,
     "metadata": {},
     "output_type": "execute_result"
    }
   ],
   "source": [
    "candidates = [Candidate(str(i + 1)) for i in range(3)]\n",
    "candidates"
   ]
  },
  {
   "cell_type": "code",
   "execution_count": null,
   "metadata": {},
   "outputs": [],
   "source": []
  },
  {
   "cell_type": "code",
   "execution_count": 61,
   "metadata": {},
   "outputs": [],
   "source": [
    "def get_candidate_by_name(candidates: List[Candidate], name: str):\n",
    "    for candidate in candidates:\n",
    "        if candidate.name == name:\n",
    "            return candidate"
   ]
  },
  {
   "cell_type": "code",
   "execution_count": 33,
   "metadata": {},
   "outputs": [],
   "source": [
    "segment_one = [\n",
    "    Ballot(ranked_candidates=[candidates[1], candidates[2], candidates[0]])\n",
    "    for i \n",
    "    in range(4)\n",
    "]\n",
    "segment_two = [\n",
    "    Ballot(ranked_candidates=[candidates[0], candidates[1], candidates[2]])\n",
    "    for i \n",
    "    in range(4)\n",
    "]\n",
    "pivotal_voter = Ballot(ranked_candidates=[candidates[1], candidates[0], candidates[2]])"
   ]
  },
  {
   "cell_type": "code",
   "execution_count": 34,
   "metadata": {},
   "outputs": [],
   "source": [
    "ballots = segment_one + [pivotal_voter] + segment_two"
   ]
  },
  {
   "cell_type": "code",
   "execution_count": 35,
   "metadata": {},
   "outputs": [],
   "source": [
    "method = instant_runoff_voting\n",
    "kwargs = {}"
   ]
  },
  {
   "cell_type": "code",
   "execution_count": 36,
   "metadata": {},
   "outputs": [],
   "source": [
    "election_result = method(candidates, ballots, **kwargs)"
   ]
  },
  {
   "cell_type": "code",
   "execution_count": 37,
   "metadata": {},
   "outputs": [
    {
     "name": "stdout",
     "output_type": "stream",
     "text": [
      "FINAL RESULT\n",
      "  Candidate    Votes  Status\n",
      "-----------  -------  --------\n",
      "          3        5  Elected\n",
      "          2        4  Rejected\n",
      "          1        0  Rejected\n",
      "\n"
     ]
    }
   ],
   "source": [
    "print(election_result)"
   ]
  },
  {
   "cell_type": "code",
   "execution_count": 65,
   "metadata": {},
   "outputs": [
    {
     "data": {
      "text/plain": [
       "[<Candidate('3')>, <Candidate('2')>, <Candidate('1')>]"
      ]
     },
     "execution_count": 65,
     "metadata": {},
     "output_type": "execute_result"
    }
   ],
   "source": [
    "def get_social_result(election_result):\n",
    "    result_lines = str(election_result).split(\"\\n\")[3:-1]\n",
    "    ranked_candidates = []\n",
    "    for line in result_lines:\n",
    "        parsed_line = line.strip().split(\" \")\n",
    "        candidate_name = parsed_line[0]\n",
    "        ranked_candidates.append(get_candidate_by_name(candidates, candidate_name))\n",
    "    return ranked_candidates\n",
    "get_social_result(election_result)"
   ]
  },
  {
   "cell_type": "code",
   "execution_count": 27,
   "metadata": {},
   "outputs": [
    {
     "data": {
      "text/plain": [
       "[<Candidate('1')>]"
      ]
     },
     "execution_count": 27,
     "metadata": {},
     "output_type": "execute_result"
    }
   ],
   "source": [
    "winners = election_result.get_winners()\n",
    "winners"
   ]
  },
  {
   "cell_type": "code",
   "execution_count": 66,
   "metadata": {},
   "outputs": [
    {
     "data": {
      "text/plain": [
       "[<Candidate('3')>, <Candidate('2')>, <Candidate('1')>]"
      ]
     },
     "execution_count": 66,
     "metadata": {},
     "output_type": "execute_result"
    }
   ],
   "source": [
    "get_social_result(election_result)"
   ]
  },
  {
   "cell_type": "code",
   "execution_count": null,
   "metadata": {},
   "outputs": [],
   "source": [
    "# Algorithm to determine a \"pivotal voter\":\n",
    "# 1. Go through the ranking of each ballot, count the pairs.\n",
    "#    Data model should look something like this: \n",
    "#    {Candidate('1'), Candidate('2')}: 5 - 5 ballots prefer candidate 1 to candidate 2.\n",
    "# 2. Choose the highest preferences, eliminate the reverse preferences.\n",
    "# 3. If this does not match the outcome, there is an inconsistency (intransivity)\n",
    "# 4. ???"
   ]
  },
  {
   "cell_type": "code",
   "execution_count": null,
   "metadata": {},
   "outputs": [],
   "source": []
  },
  {
   "cell_type": "code",
   "execution_count": 30,
   "metadata": {},
   "outputs": [
    {
     "data": {
      "application/vnd.jupyter.widget-view+json": {
       "model_id": "c7748d2663bf44a3b701b91f1e3b0ed5",
       "version_major": 2,
       "version_minor": 0
      },
      "text/plain": [
       "HBox(children=(FloatProgress(value=1.0, bar_style='info', max=1.0), HTML(value='')))"
      ]
     },
     "metadata": {},
     "output_type": "display_data"
    },
    {
     "data": {
      "application/vnd.jupyter.widget-view+json": {
       "model_id": "4258bd73b15044749e40232ebec4aeed",
       "version_major": 2,
       "version_minor": 0
      },
      "text/plain": [
       "HBox(children=(FloatProgress(value=0.0, max=2.0), HTML(value='')))"
      ]
     },
     "metadata": {},
     "output_type": "display_data"
    },
    {
     "name": "stdout",
     "output_type": "stream",
     "text": [
      "Voter 1 is pivotal. Changing <Ballot(2, 1, 3)> to <Ballot(1, 2, 3)>, in turn, changes the outcome from [<Candidate('1')>] to [<Candidate('3')>]\n",
      "\n",
      "\n"
     ]
    }
   ],
   "source": [
    "perturbed_ballots = ballots\n",
    "is_pivotal_voter_found = False\n",
    "for i, ballot in tqdm(enumerate(ballots)):\n",
    "    for j in tqdm(range(len(ballot.ranked_candidates) - 1)):\n",
    "        perturbed_candidates = list(ballot.ranked_candidates)\n",
    "        perturbed_candidates[j], perturbed_candidates[j + 1] = perturbed_candidates[j + 1], perturbed_candidates[j]\n",
    "        perturbed_ballot = Ballot(perturbed_candidates)\n",
    "        perturbed_ballots[i] = perturbed_ballot\n",
    "        perturbed_result = method(candidates, ballots, **kwargs)\n",
    "        perturbed_winners = perturbed_result.get_winners()\n",
    "        if winners != perturbed_winners:\n",
    "            print(f\"Voter {i + 1} is pivotal. \"\n",
    "                  f\"Changing {ballot} to {perturbed_ballot}, in turn, \"\n",
    "                  f\"changes the outcome from {winners} to {perturbed_winners}\")\n",
    "            is_pivotal_voter_found = True\n",
    "            break\n",
    "    if is_pivotal_voter_found and not is_find_all_pivotal_voters:\n",
    "        break"
   ]
  },
  {
   "cell_type": "code",
   "execution_count": 21,
   "metadata": {},
   "outputs": [
    {
     "data": {
      "text/plain": [
       "<Ballot(3, 1, 2)>"
      ]
     },
     "execution_count": 21,
     "metadata": {},
     "output_type": "execute_result"
    }
   ],
   "source": [
    "ballot"
   ]
  },
  {
   "cell_type": "code",
   "execution_count": 22,
   "metadata": {},
   "outputs": [
    {
     "data": {
      "text/plain": [
       "['__class__',\n",
       " '__delattr__',\n",
       " '__dict__',\n",
       " '__dir__',\n",
       " '__doc__',\n",
       " '__eq__',\n",
       " '__format__',\n",
       " '__ge__',\n",
       " '__getattribute__',\n",
       " '__gt__',\n",
       " '__hash__',\n",
       " '__init__',\n",
       " '__init_subclass__',\n",
       " '__le__',\n",
       " '__lt__',\n",
       " '__module__',\n",
       " '__ne__',\n",
       " '__new__',\n",
       " '__reduce__',\n",
       " '__reduce_ex__',\n",
       " '__repr__',\n",
       " '__setattr__',\n",
       " '__sizeof__',\n",
       " '__str__',\n",
       " '__subclasshook__',\n",
       " '__weakref__',\n",
       " '_is_all_candidate_objects',\n",
       " '_is_candidate_object',\n",
       " '_is_duplicates',\n",
       " 'ranked_candidates']"
      ]
     },
     "execution_count": 22,
     "metadata": {},
     "output_type": "execute_result"
    }
   ],
   "source": [
    "dir(ballot)"
   ]
  },
  {
   "cell_type": "code",
   "execution_count": 23,
   "metadata": {},
   "outputs": [
    {
     "data": {
      "text/plain": [
       "(<Candidate('3')>, <Candidate('1')>, <Candidate('2')>)"
      ]
     },
     "execution_count": 23,
     "metadata": {},
     "output_type": "execute_result"
    }
   ],
   "source": [
    "ballot.ranked_candidates"
   ]
  },
  {
   "cell_type": "code",
   "execution_count": null,
   "metadata": {},
   "outputs": [],
   "source": []
  }
 ],
 "metadata": {
  "kernelspec": {
   "display_name": "Python 3",
   "language": "python",
   "name": "python3"
  },
  "language_info": {
   "codemirror_mode": {
    "name": "ipython",
    "version": 3
   },
   "file_extension": ".py",
   "mimetype": "text/x-python",
   "name": "python",
   "nbconvert_exporter": "python",
   "pygments_lexer": "ipython3",
   "version": "3.8.5"
  }
 },
 "nbformat": 4,
 "nbformat_minor": 4
}
